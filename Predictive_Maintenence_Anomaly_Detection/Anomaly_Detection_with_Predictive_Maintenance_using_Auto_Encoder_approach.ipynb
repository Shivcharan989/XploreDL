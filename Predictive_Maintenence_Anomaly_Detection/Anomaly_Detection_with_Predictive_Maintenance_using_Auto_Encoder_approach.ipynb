{
  "nbformat": 4,
  "nbformat_minor": 0,
  "metadata": {
    "colab": {
      "name": "Anomaly Detection with Predictive Maintenance using Auto_Encoder_approach.ipynb",
      "provenance": [],
      "authorship_tag": "ABX9TyNBbUMVzZvuB6iAE3qp29Ip",
      "include_colab_link": true
    },
    "kernelspec": {
      "name": "python3",
      "display_name": "Python 3"
    }
  },
  "cells": [
    {
      "cell_type": "markdown",
      "metadata": {
        "id": "view-in-github",
        "colab_type": "text"
      },
      "source": [
        "<a href=\"https://colab.research.google.com/github/Shivcharan989/XploreDL/blob/main/Predictive_Maintenence_Anomaly_Detection/Anomaly_Detection_with_Predictive_Maintenance_using_Auto_Encoder_approach.ipynb\" target=\"_parent\"><img src=\"https://colab.research.google.com/assets/colab-badge.svg\" alt=\"Open In Colab\"/></a>"
      ]
    },
    {
      "cell_type": "code",
      "metadata": {
        "id": "fkMKsyV8-rbM",
        "colab": {
          "base_uri": "https://localhost:8080/",
          "height": 121
        },
        "outputId": "9892df3a-2e94-4abe-9ef9-646b00ee6f04"
      },
      "source": [
        "import os\n",
        "import pandas as pd\n",
        "import numpy as np\n",
        "from sklearn import preprocessing\n",
        "import seaborn as sns\n",
        "sns.set(color_codes=True)\n",
        "import matplotlib.pyplot as plt\n",
        "%matplotlib inline\n",
        "\n",
        "\n",
        "from numpy.random import seed\n",
        "from keras.layers import Input, Dropout\n",
        "from keras.layers.core import Dense \n",
        "from keras.models import Model, Sequential, load_model\n",
        "from keras import regularizers\n",
        "from keras.models import model_from_json\n",
        "\n",
        "import tensorflow as tf    \n",
        "import tensorflow.compat.v1 as tf\n",
        "tf.disable_v2_behavior()\n",
        "\n"
      ],
      "execution_count": null,
      "outputs": [
        {
          "output_type": "stream",
          "text": [
            "/usr/local/lib/python3.6/dist-packages/statsmodels/tools/_testing.py:19: FutureWarning: pandas.util.testing is deprecated. Use the functions in the public API at pandas.testing instead.\n",
            "  import pandas.util.testing as tm\n"
          ],
          "name": "stderr"
        },
        {
          "output_type": "stream",
          "text": [
            "WARNING:tensorflow:From /usr/local/lib/python3.6/dist-packages/tensorflow/python/compat/v2_compat.py:96: disable_resource_variables (from tensorflow.python.ops.variable_scope) is deprecated and will be removed in a future version.\n",
            "Instructions for updating:\n",
            "non-resource variables are not supported in the long term\n"
          ],
          "name": "stdout"
        }
      ]
    },
    {
      "cell_type": "markdown",
      "source": [
        "The main idea is to \"compress\" the data values into a low-dimensional representation that captures the correlations and interactions between \n",
        "the various variables using an autoencoder neural network.\n",
        "\n",
        "The data is first trained with normal healthy data , we identify a threshold in its normal behaviour and later use it for identifiying the anomaly, therby identifying the issue with sensor before it even happens\n"
      ],
      "metadata": {
        "id": "Oc64MC1_nGB_"
      }
    },
    {
      "cell_type": "code",
      "metadata": {
        "id": "VSS0Av9pHFRn"
      },
      "source": [
        "dataset = pd.read_excel('m_1.xlsx')\n",
        "dataset['timestamp']=pd.to_datetime(dataset['timestamp'])\n",
        "dataset_original = dataset.set_index(['timestamp'])"
      ],
      "execution_count": null,
      "outputs": []
    },
    {
      "cell_type": "code",
      "metadata": {
        "id": "5vtniKxEHHTC"
      },
      "source": [
        "optimal = dataset_original[['cpu_util_percent','mem_util_percent','disk_io_percent','net_in','net_out']]"
      ],
      "execution_count": null,
      "outputs": []
    },
    {
      "cell_type": "code",
      "metadata": {
        "id": "TWrIT53tHKPl"
      },
      "source": [
        "training = optimal['2011-05-04 12:00:20':]\n",
        "testing= optimal['2011-05-01 12:00:10':'2011-05-04 12:00:10']\n"
      ],
      "execution_count": null,
      "outputs": []
    },
    {
      "cell_type": "code",
      "metadata": {
        "id": "EzrwqMSn5LbG"
      },
      "source": [
        "training.to_csv(\"m_1_anamoly_train_data.csv\")"
      ],
      "execution_count": null,
      "outputs": []
    },
    {
      "cell_type": "code",
      "metadata": {
        "id": "cAQrKGNWnkUx",
        "colab": {
          "base_uri": "https://localhost:8080/",
          "height": 431
        },
        "outputId": "f1a427ea-fca7-43ab-9908-cabe77a77775"
      },
      "source": [
        "training"
      ],
      "execution_count": null,
      "outputs": [
        {
          "output_type": "execute_result",
          "data": {
            "text/html": [
              "<div>\n",
              "<style scoped>\n",
              "    .dataframe tbody tr th:only-of-type {\n",
              "        vertical-align: middle;\n",
              "    }\n",
              "\n",
              "    .dataframe tbody tr th {\n",
              "        vertical-align: top;\n",
              "    }\n",
              "\n",
              "    .dataframe thead th {\n",
              "        text-align: right;\n",
              "    }\n",
              "</style>\n",
              "<table border=\"1\" class=\"dataframe\">\n",
              "  <thead>\n",
              "    <tr style=\"text-align: right;\">\n",
              "      <th></th>\n",
              "      <th>cpu_util_percent</th>\n",
              "      <th>mem_util_percent</th>\n",
              "      <th>disk_io_percent</th>\n",
              "      <th>net_in</th>\n",
              "      <th>net_out</th>\n",
              "    </tr>\n",
              "    <tr>\n",
              "      <th>timestamp</th>\n",
              "      <th></th>\n",
              "      <th></th>\n",
              "      <th></th>\n",
              "      <th></th>\n",
              "      <th></th>\n",
              "    </tr>\n",
              "  </thead>\n",
              "  <tbody>\n",
              "    <tr>\n",
              "      <th>2011-05-04 12:00:20</th>\n",
              "      <td>27</td>\n",
              "      <td>95</td>\n",
              "      <td>2</td>\n",
              "      <td>36.77</td>\n",
              "      <td>25.94</td>\n",
              "    </tr>\n",
              "    <tr>\n",
              "      <th>2011-05-04 12:00:30</th>\n",
              "      <td>28</td>\n",
              "      <td>96</td>\n",
              "      <td>2</td>\n",
              "      <td>36.77</td>\n",
              "      <td>25.94</td>\n",
              "    </tr>\n",
              "    <tr>\n",
              "      <th>2011-05-04 12:00:40</th>\n",
              "      <td>28</td>\n",
              "      <td>96</td>\n",
              "      <td>2</td>\n",
              "      <td>36.77</td>\n",
              "      <td>25.94</td>\n",
              "    </tr>\n",
              "    <tr>\n",
              "      <th>2011-05-04 12:01:00</th>\n",
              "      <td>27</td>\n",
              "      <td>97</td>\n",
              "      <td>3</td>\n",
              "      <td>36.77</td>\n",
              "      <td>25.94</td>\n",
              "    </tr>\n",
              "    <tr>\n",
              "      <th>2011-05-04 12:01:10</th>\n",
              "      <td>29</td>\n",
              "      <td>96</td>\n",
              "      <td>3</td>\n",
              "      <td>36.77</td>\n",
              "      <td>25.94</td>\n",
              "    </tr>\n",
              "    <tr>\n",
              "      <th>...</th>\n",
              "      <td>...</td>\n",
              "      <td>...</td>\n",
              "      <td>...</td>\n",
              "      <td>...</td>\n",
              "      <td>...</td>\n",
              "    </tr>\n",
              "    <tr>\n",
              "      <th>2011-05-07 16:37:30</th>\n",
              "      <td>51</td>\n",
              "      <td>94</td>\n",
              "      <td>6</td>\n",
              "      <td>41.94</td>\n",
              "      <td>29.46</td>\n",
              "    </tr>\n",
              "    <tr>\n",
              "      <th>2011-05-07 16:37:40</th>\n",
              "      <td>55</td>\n",
              "      <td>94</td>\n",
              "      <td>6</td>\n",
              "      <td>41.94</td>\n",
              "      <td>29.47</td>\n",
              "    </tr>\n",
              "    <tr>\n",
              "      <th>2011-05-07 16:37:50</th>\n",
              "      <td>36</td>\n",
              "      <td>94</td>\n",
              "      <td>6</td>\n",
              "      <td>41.94</td>\n",
              "      <td>29.47</td>\n",
              "    </tr>\n",
              "    <tr>\n",
              "      <th>2011-05-07 16:38:00</th>\n",
              "      <td>35</td>\n",
              "      <td>94</td>\n",
              "      <td>8</td>\n",
              "      <td>41.94</td>\n",
              "      <td>29.47</td>\n",
              "    </tr>\n",
              "    <tr>\n",
              "      <th>2011-05-07 16:38:10</th>\n",
              "      <td>38</td>\n",
              "      <td>94</td>\n",
              "      <td>8</td>\n",
              "      <td>41.94</td>\n",
              "      <td>29.47</td>\n",
              "    </tr>\n",
              "  </tbody>\n",
              "</table>\n",
              "<p>27428 rows × 5 columns</p>\n",
              "</div>"
            ],
            "text/plain": [
              "                     cpu_util_percent  mem_util_percent  ...  net_in  net_out\n",
              "timestamp                                                ...                 \n",
              "2011-05-04 12:00:20                27                95  ...   36.77    25.94\n",
              "2011-05-04 12:00:30                28                96  ...   36.77    25.94\n",
              "2011-05-04 12:00:40                28                96  ...   36.77    25.94\n",
              "2011-05-04 12:01:00                27                97  ...   36.77    25.94\n",
              "2011-05-04 12:01:10                29                96  ...   36.77    25.94\n",
              "...                               ...               ...  ...     ...      ...\n",
              "2011-05-07 16:37:30                51                94  ...   41.94    29.46\n",
              "2011-05-07 16:37:40                55                94  ...   41.94    29.47\n",
              "2011-05-07 16:37:50                36                94  ...   41.94    29.47\n",
              "2011-05-07 16:38:00                35                94  ...   41.94    29.47\n",
              "2011-05-07 16:38:10                38                94  ...   41.94    29.47\n",
              "\n",
              "[27428 rows x 5 columns]"
            ]
          },
          "metadata": {
            "tags": []
          },
          "execution_count": 6
        }
      ]
    },
    {
      "cell_type": "code",
      "metadata": {
        "id": "As5D9trv_qpe"
      },
      "source": [
        "testing.to_csv(\"m_1_anamoly_test_data.csv\")"
      ],
      "execution_count": null,
      "outputs": []
    },
    {
      "cell_type": "code",
      "metadata": {
        "id": "hM-qbiilHMxJ"
      },
      "source": [
        "#Performing Scaling for Maximizing the model output.\n",
        "scaler = preprocessing.MinMaxScaler()\n",
        "X_train = pd.DataFrame(scaler.fit_transform(training), \n",
        "                              columns=training.columns, \n",
        "                              index=training.index)\n",
        "X_test = pd.DataFrame(scaler.transform(testing), \n",
        "                             columns=testing.columns, \n",
        "                             index=testing.index)"
      ],
      "execution_count": null,
      "outputs": []
    },
    {
      "cell_type": "code",
      "metadata": {
        "id": "LJSOEt0A5QLS",
        "colab": {
          "base_uri": "https://localhost:8080/",
          "height": 431
        },
        "outputId": "d4d91d3b-fc63-4711-f1fc-dc033ea4d71d"
      },
      "source": [
        "X_train"
      ],
      "execution_count": null,
      "outputs": [
        {
          "output_type": "execute_result",
          "data": {
            "text/html": [
              "<div>\n",
              "<style scoped>\n",
              "    .dataframe tbody tr th:only-of-type {\n",
              "        vertical-align: middle;\n",
              "    }\n",
              "\n",
              "    .dataframe tbody tr th {\n",
              "        vertical-align: top;\n",
              "    }\n",
              "\n",
              "    .dataframe thead th {\n",
              "        text-align: right;\n",
              "    }\n",
              "</style>\n",
              "<table border=\"1\" class=\"dataframe\">\n",
              "  <thead>\n",
              "    <tr style=\"text-align: right;\">\n",
              "      <th></th>\n",
              "      <th>cpu_util_percent</th>\n",
              "      <th>mem_util_percent</th>\n",
              "      <th>disk_io_percent</th>\n",
              "      <th>net_in</th>\n",
              "      <th>net_out</th>\n",
              "    </tr>\n",
              "    <tr>\n",
              "      <th>timestamp</th>\n",
              "      <th></th>\n",
              "      <th></th>\n",
              "      <th></th>\n",
              "      <th></th>\n",
              "      <th></th>\n",
              "    </tr>\n",
              "  </thead>\n",
              "  <tbody>\n",
              "    <tr>\n",
              "      <th>2011-05-04 12:00:20</th>\n",
              "      <td>0.209877</td>\n",
              "      <td>0.88</td>\n",
              "      <td>0.020408</td>\n",
              "      <td>0.0</td>\n",
              "      <td>0.000000</td>\n",
              "    </tr>\n",
              "    <tr>\n",
              "      <th>2011-05-04 12:00:30</th>\n",
              "      <td>0.222222</td>\n",
              "      <td>0.92</td>\n",
              "      <td>0.020408</td>\n",
              "      <td>0.0</td>\n",
              "      <td>0.000000</td>\n",
              "    </tr>\n",
              "    <tr>\n",
              "      <th>2011-05-04 12:00:40</th>\n",
              "      <td>0.222222</td>\n",
              "      <td>0.92</td>\n",
              "      <td>0.020408</td>\n",
              "      <td>0.0</td>\n",
              "      <td>0.000000</td>\n",
              "    </tr>\n",
              "    <tr>\n",
              "      <th>2011-05-04 12:01:00</th>\n",
              "      <td>0.209877</td>\n",
              "      <td>0.96</td>\n",
              "      <td>0.040816</td>\n",
              "      <td>0.0</td>\n",
              "      <td>0.000000</td>\n",
              "    </tr>\n",
              "    <tr>\n",
              "      <th>2011-05-04 12:01:10</th>\n",
              "      <td>0.234568</td>\n",
              "      <td>0.92</td>\n",
              "      <td>0.040816</td>\n",
              "      <td>0.0</td>\n",
              "      <td>0.000000</td>\n",
              "    </tr>\n",
              "    <tr>\n",
              "      <th>...</th>\n",
              "      <td>...</td>\n",
              "      <td>...</td>\n",
              "      <td>...</td>\n",
              "      <td>...</td>\n",
              "      <td>...</td>\n",
              "    </tr>\n",
              "    <tr>\n",
              "      <th>2011-05-07 16:37:30</th>\n",
              "      <td>0.506173</td>\n",
              "      <td>0.84</td>\n",
              "      <td>0.102041</td>\n",
              "      <td>1.0</td>\n",
              "      <td>0.997167</td>\n",
              "    </tr>\n",
              "    <tr>\n",
              "      <th>2011-05-07 16:37:40</th>\n",
              "      <td>0.555556</td>\n",
              "      <td>0.84</td>\n",
              "      <td>0.102041</td>\n",
              "      <td>1.0</td>\n",
              "      <td>1.000000</td>\n",
              "    </tr>\n",
              "    <tr>\n",
              "      <th>2011-05-07 16:37:50</th>\n",
              "      <td>0.320988</td>\n",
              "      <td>0.84</td>\n",
              "      <td>0.102041</td>\n",
              "      <td>1.0</td>\n",
              "      <td>1.000000</td>\n",
              "    </tr>\n",
              "    <tr>\n",
              "      <th>2011-05-07 16:38:00</th>\n",
              "      <td>0.308642</td>\n",
              "      <td>0.84</td>\n",
              "      <td>0.142857</td>\n",
              "      <td>1.0</td>\n",
              "      <td>1.000000</td>\n",
              "    </tr>\n",
              "    <tr>\n",
              "      <th>2011-05-07 16:38:10</th>\n",
              "      <td>0.345679</td>\n",
              "      <td>0.84</td>\n",
              "      <td>0.142857</td>\n",
              "      <td>1.0</td>\n",
              "      <td>1.000000</td>\n",
              "    </tr>\n",
              "  </tbody>\n",
              "</table>\n",
              "<p>27428 rows × 5 columns</p>\n",
              "</div>"
            ],
            "text/plain": [
              "                     cpu_util_percent  mem_util_percent  ...  net_in   net_out\n",
              "timestamp                                                ...                  \n",
              "2011-05-04 12:00:20          0.209877              0.88  ...     0.0  0.000000\n",
              "2011-05-04 12:00:30          0.222222              0.92  ...     0.0  0.000000\n",
              "2011-05-04 12:00:40          0.222222              0.92  ...     0.0  0.000000\n",
              "2011-05-04 12:01:00          0.209877              0.96  ...     0.0  0.000000\n",
              "2011-05-04 12:01:10          0.234568              0.92  ...     0.0  0.000000\n",
              "...                               ...               ...  ...     ...       ...\n",
              "2011-05-07 16:37:30          0.506173              0.84  ...     1.0  0.997167\n",
              "2011-05-07 16:37:40          0.555556              0.84  ...     1.0  1.000000\n",
              "2011-05-07 16:37:50          0.320988              0.84  ...     1.0  1.000000\n",
              "2011-05-07 16:38:00          0.308642              0.84  ...     1.0  1.000000\n",
              "2011-05-07 16:38:10          0.345679              0.84  ...     1.0  1.000000\n",
              "\n",
              "[27428 rows x 5 columns]"
            ]
          },
          "metadata": {
            "tags": []
          },
          "execution_count": 11
        }
      ]
    },
    {
      "cell_type": "code",
      "metadata": {
        "id": "FkAO9Fgu_y6D",
        "colab": {
          "base_uri": "https://localhost:8080/",
          "height": 431
        },
        "outputId": "6c2c9813-710f-4bf7-812a-9a735599a948"
      },
      "source": [
        "X_test"
      ],
      "execution_count": null,
      "outputs": [
        {
          "output_type": "execute_result",
          "data": {
            "text/html": [
              "<div>\n",
              "<style scoped>\n",
              "    .dataframe tbody tr th:only-of-type {\n",
              "        vertical-align: middle;\n",
              "    }\n",
              "\n",
              "    .dataframe tbody tr th {\n",
              "        vertical-align: top;\n",
              "    }\n",
              "\n",
              "    .dataframe thead th {\n",
              "        text-align: right;\n",
              "    }\n",
              "</style>\n",
              "<table border=\"1\" class=\"dataframe\">\n",
              "  <thead>\n",
              "    <tr style=\"text-align: right;\">\n",
              "      <th></th>\n",
              "      <th>cpu_util_percent</th>\n",
              "      <th>mem_util_percent</th>\n",
              "      <th>disk_io_percent</th>\n",
              "      <th>net_in</th>\n",
              "      <th>net_out</th>\n",
              "    </tr>\n",
              "    <tr>\n",
              "      <th>timestamp</th>\n",
              "      <th></th>\n",
              "      <th></th>\n",
              "      <th></th>\n",
              "      <th></th>\n",
              "      <th></th>\n",
              "    </tr>\n",
              "  </thead>\n",
              "  <tbody>\n",
              "    <tr>\n",
              "      <th>2011-05-01 12:00:10</th>\n",
              "      <td>0.037037</td>\n",
              "      <td>0.44</td>\n",
              "      <td>0.000000</td>\n",
              "      <td>-0.833656</td>\n",
              "      <td>-0.807365</td>\n",
              "    </tr>\n",
              "    <tr>\n",
              "      <th>2011-05-01 12:00:20</th>\n",
              "      <td>0.000000</td>\n",
              "      <td>0.44</td>\n",
              "      <td>0.000000</td>\n",
              "      <td>-0.833656</td>\n",
              "      <td>-0.807365</td>\n",
              "    </tr>\n",
              "    <tr>\n",
              "      <th>2011-05-01 12:00:30</th>\n",
              "      <td>0.012346</td>\n",
              "      <td>0.44</td>\n",
              "      <td>0.000000</td>\n",
              "      <td>-0.833656</td>\n",
              "      <td>-0.807365</td>\n",
              "    </tr>\n",
              "    <tr>\n",
              "      <th>2011-05-01 12:00:40</th>\n",
              "      <td>0.024691</td>\n",
              "      <td>0.44</td>\n",
              "      <td>0.000000</td>\n",
              "      <td>-0.833656</td>\n",
              "      <td>-0.807365</td>\n",
              "    </tr>\n",
              "    <tr>\n",
              "      <th>2011-05-01 12:00:50</th>\n",
              "      <td>0.024691</td>\n",
              "      <td>0.44</td>\n",
              "      <td>0.000000</td>\n",
              "      <td>-0.833656</td>\n",
              "      <td>-0.807365</td>\n",
              "    </tr>\n",
              "    <tr>\n",
              "      <th>...</th>\n",
              "      <td>...</td>\n",
              "      <td>...</td>\n",
              "      <td>...</td>\n",
              "      <td>...</td>\n",
              "      <td>...</td>\n",
              "    </tr>\n",
              "    <tr>\n",
              "      <th>2011-05-04 11:59:30</th>\n",
              "      <td>0.111111</td>\n",
              "      <td>0.88</td>\n",
              "      <td>0.000000</td>\n",
              "      <td>0.000000</td>\n",
              "      <td>0.000000</td>\n",
              "    </tr>\n",
              "    <tr>\n",
              "      <th>2011-05-04 11:59:40</th>\n",
              "      <td>0.098765</td>\n",
              "      <td>0.84</td>\n",
              "      <td>0.000000</td>\n",
              "      <td>0.000000</td>\n",
              "      <td>0.000000</td>\n",
              "    </tr>\n",
              "    <tr>\n",
              "      <th>2011-05-04 11:59:50</th>\n",
              "      <td>0.135802</td>\n",
              "      <td>0.84</td>\n",
              "      <td>0.000000</td>\n",
              "      <td>0.000000</td>\n",
              "      <td>0.000000</td>\n",
              "    </tr>\n",
              "    <tr>\n",
              "      <th>2011-05-04 12:00:00</th>\n",
              "      <td>0.111111</td>\n",
              "      <td>0.88</td>\n",
              "      <td>0.020408</td>\n",
              "      <td>0.000000</td>\n",
              "      <td>0.000000</td>\n",
              "    </tr>\n",
              "    <tr>\n",
              "      <th>2011-05-04 12:00:10</th>\n",
              "      <td>0.135802</td>\n",
              "      <td>0.88</td>\n",
              "      <td>0.020408</td>\n",
              "      <td>0.000000</td>\n",
              "      <td>0.000000</td>\n",
              "    </tr>\n",
              "  </tbody>\n",
              "</table>\n",
              "<p>18940 rows × 5 columns</p>\n",
              "</div>"
            ],
            "text/plain": [
              "                     cpu_util_percent  mem_util_percent  ...    net_in   net_out\n",
              "timestamp                                                ...                    \n",
              "2011-05-01 12:00:10          0.037037              0.44  ... -0.833656 -0.807365\n",
              "2011-05-01 12:00:20          0.000000              0.44  ... -0.833656 -0.807365\n",
              "2011-05-01 12:00:30          0.012346              0.44  ... -0.833656 -0.807365\n",
              "2011-05-01 12:00:40          0.024691              0.44  ... -0.833656 -0.807365\n",
              "2011-05-01 12:00:50          0.024691              0.44  ... -0.833656 -0.807365\n",
              "...                               ...               ...  ...       ...       ...\n",
              "2011-05-04 11:59:30          0.111111              0.88  ...  0.000000  0.000000\n",
              "2011-05-04 11:59:40          0.098765              0.84  ...  0.000000  0.000000\n",
              "2011-05-04 11:59:50          0.135802              0.84  ...  0.000000  0.000000\n",
              "2011-05-04 12:00:00          0.111111              0.88  ...  0.000000  0.000000\n",
              "2011-05-04 12:00:10          0.135802              0.88  ...  0.000000  0.000000\n",
              "\n",
              "[18940 rows x 5 columns]"
            ]
          },
          "metadata": {
            "tags": []
          },
          "execution_count": 12
        }
      ]
    },
    {
      "cell_type": "code",
      "metadata": {
        "id": "vRTqYSLYLHGk",
        "colab": {
          "base_uri": "https://localhost:8080/",
          "height": 87
        },
        "outputId": "5a46c857-2376-4da2-8954-d271f6f2f768"
      },
      "source": [
        "seed(10)\n",
        "act_func = 'elu'\n",
        "import warnings\n",
        "warnings.filterwarnings('ignore')\n",
        "\n",
        "\n",
        "model=Sequential()\n",
        " \n",
        "model.add(Dense(10,activation=act_func,\n",
        "                kernel_initializer='glorot_uniform',\n",
        "                kernel_regularizer=regularizers.l2(0.0),\n",
        "                input_shape=(X_train.shape[1],)\n",
        "               )\n",
        "         )\n",
        "\n",
        "model.add(Dense(2,activation=act_func,\n",
        "                kernel_initializer='glorot_uniform'))\n",
        "\n",
        "model.add(Dense(10,activation=act_func,\n",
        "                kernel_initializer='glorot_uniform'))\n",
        "\n",
        "model.add(Dense(X_train.shape[1],\n",
        "                kernel_initializer='glorot_uniform'))\n",
        "\n",
        "model.compile(loss='mse',optimizer='adam')\n",
        "\n",
        "NUM_EPOCHS=100\n",
        "BATCH_SIZE=10"
      ],
      "execution_count": null,
      "outputs": [
        {
          "output_type": "stream",
          "text": [
            "WARNING:tensorflow:From /usr/local/lib/python3.6/dist-packages/tensorflow/python/ops/resource_variable_ops.py:1666: calling BaseResourceVariable.__init__ (from tensorflow.python.ops.resource_variable_ops) with constraint is deprecated and will be removed in a future version.\n",
            "Instructions for updating:\n",
            "If using Keras pass *_constraint arguments to layers.\n"
          ],
          "name": "stdout"
        }
      ]
    },
    {
      "cell_type": "code",
      "metadata": {
        "id": "QxchRJnULnrb",
        "colab": {
          "base_uri": "https://localhost:8080/",
          "height": 1000
        },
        "outputId": "532db730-1aa5-41c3-fa76-c96c7edd866e"
      },
      "source": [
        "history=model.fit(np.array(X_train),np.array(X_train),\n",
        "                  batch_size=BATCH_SIZE, \n",
        "                  epochs=NUM_EPOCHS,\n",
        "                  validation_split=0.05,\n",
        "                  verbose = 1)"
      ],
      "execution_count": null,
      "outputs": [
        {
          "output_type": "stream",
          "text": [
            "Train on 26056 samples, validate on 1372 samples\n",
            "Epoch 1/100\n",
            "26056/26056 [==============================] - 3s 134us/step - loss: 0.0183 - val_loss: 0.0118\n",
            "Epoch 2/100\n",
            "26056/26056 [==============================] - 3s 107us/step - loss: 0.0051 - val_loss: 0.0224\n",
            "Epoch 3/100\n",
            "26056/26056 [==============================] - 3s 106us/step - loss: 0.0044 - val_loss: 0.0201\n",
            "Epoch 4/100\n",
            "26056/26056 [==============================] - 3s 104us/step - loss: 0.0043 - val_loss: 0.0206\n",
            "Epoch 5/100\n",
            "26056/26056 [==============================] - 3s 109us/step - loss: 0.0042 - val_loss: 0.0192\n",
            "Epoch 6/100\n",
            "26056/26056 [==============================] - 3s 106us/step - loss: 0.0041 - val_loss: 0.0178\n",
            "Epoch 7/100\n",
            "26056/26056 [==============================] - 3s 106us/step - loss: 0.0040 - val_loss: 0.0210\n",
            "Epoch 8/100\n",
            "26056/26056 [==============================] - 3s 105us/step - loss: 0.0039 - val_loss: 0.0186\n",
            "Epoch 9/100\n",
            "26056/26056 [==============================] - 3s 106us/step - loss: 0.0038 - val_loss: 0.0188\n",
            "Epoch 10/100\n",
            "26056/26056 [==============================] - 3s 106us/step - loss: 0.0038 - val_loss: 0.0168\n",
            "Epoch 11/100\n",
            "26056/26056 [==============================] - 3s 105us/step - loss: 0.0037 - val_loss: 0.0172\n",
            "Epoch 12/100\n",
            "26056/26056 [==============================] - 3s 110us/step - loss: 0.0037 - val_loss: 0.0162\n",
            "Epoch 13/100\n",
            "26056/26056 [==============================] - 3s 108us/step - loss: 0.0037 - val_loss: 0.0162\n",
            "Epoch 14/100\n",
            "26056/26056 [==============================] - 3s 104us/step - loss: 0.0037 - val_loss: 0.0151\n",
            "Epoch 15/100\n",
            "26056/26056 [==============================] - 3s 106us/step - loss: 0.0037 - val_loss: 0.0137\n",
            "Epoch 16/100\n",
            "26056/26056 [==============================] - 3s 110us/step - loss: 0.0036 - val_loss: 0.0159\n",
            "Epoch 17/100\n",
            "26056/26056 [==============================] - 3s 105us/step - loss: 0.0036 - val_loss: 0.0126\n",
            "Epoch 18/100\n",
            "26056/26056 [==============================] - 3s 114us/step - loss: 0.0036 - val_loss: 0.0120\n",
            "Epoch 19/100\n",
            "26056/26056 [==============================] - 3s 110us/step - loss: 0.0036 - val_loss: 0.0110\n",
            "Epoch 20/100\n",
            "26056/26056 [==============================] - 3s 105us/step - loss: 0.0036 - val_loss: 0.0114\n",
            "Epoch 21/100\n",
            "26056/26056 [==============================] - 3s 106us/step - loss: 0.0036 - val_loss: 0.0113\n",
            "Epoch 22/100\n",
            "26056/26056 [==============================] - 3s 110us/step - loss: 0.0035 - val_loss: 0.0126\n",
            "Epoch 23/100\n",
            "26056/26056 [==============================] - 3s 105us/step - loss: 0.0035 - val_loss: 0.0117\n",
            "Epoch 24/100\n",
            "26056/26056 [==============================] - 3s 107us/step - loss: 0.0035 - val_loss: 0.0112\n",
            "Epoch 25/100\n",
            "26056/26056 [==============================] - 3s 105us/step - loss: 0.0035 - val_loss: 0.0100\n",
            "Epoch 26/100\n",
            "26056/26056 [==============================] - 3s 108us/step - loss: 0.0035 - val_loss: 0.0114\n",
            "Epoch 27/100\n",
            "26056/26056 [==============================] - 3s 109us/step - loss: 0.0035 - val_loss: 0.0093\n",
            "Epoch 28/100\n",
            "26056/26056 [==============================] - 3s 115us/step - loss: 0.0034 - val_loss: 0.0092\n",
            "Epoch 29/100\n",
            "26056/26056 [==============================] - 3s 107us/step - loss: 0.0034 - val_loss: 0.0092\n",
            "Epoch 30/100\n",
            "26056/26056 [==============================] - 3s 110us/step - loss: 0.0034 - val_loss: 0.0091\n",
            "Epoch 31/100\n",
            "26056/26056 [==============================] - 3s 105us/step - loss: 0.0034 - val_loss: 0.0089\n",
            "Epoch 32/100\n",
            "26056/26056 [==============================] - 3s 105us/step - loss: 0.0034 - val_loss: 0.0087\n",
            "Epoch 33/100\n",
            "26056/26056 [==============================] - 3s 105us/step - loss: 0.0034 - val_loss: 0.0087\n",
            "Epoch 34/100\n",
            "26056/26056 [==============================] - 3s 108us/step - loss: 0.0034 - val_loss: 0.0091\n",
            "Epoch 35/100\n",
            "26056/26056 [==============================] - 3s 109us/step - loss: 0.0033 - val_loss: 0.0087\n",
            "Epoch 36/100\n",
            "26056/26056 [==============================] - 3s 106us/step - loss: 0.0033 - val_loss: 0.0085\n",
            "Epoch 37/100\n",
            "26056/26056 [==============================] - 3s 110us/step - loss: 0.0033 - val_loss: 0.0085\n",
            "Epoch 38/100\n",
            "26056/26056 [==============================] - 3s 109us/step - loss: 0.0033 - val_loss: 0.0089\n",
            "Epoch 39/100\n",
            "26056/26056 [==============================] - 3s 104us/step - loss: 0.0033 - val_loss: 0.0091\n",
            "Epoch 40/100\n",
            "26056/26056 [==============================] - 3s 107us/step - loss: 0.0033 - val_loss: 0.0091\n",
            "Epoch 41/100\n",
            "26056/26056 [==============================] - 3s 104us/step - loss: 0.0033 - val_loss: 0.0084\n",
            "Epoch 42/100\n",
            "26056/26056 [==============================] - 3s 107us/step - loss: 0.0033 - val_loss: 0.0101\n",
            "Epoch 43/100\n",
            "26056/26056 [==============================] - 3s 111us/step - loss: 0.0033 - val_loss: 0.0106\n",
            "Epoch 44/100\n",
            "26056/26056 [==============================] - 3s 107us/step - loss: 0.0033 - val_loss: 0.0088\n",
            "Epoch 45/100\n",
            "26056/26056 [==============================] - 3s 110us/step - loss: 0.0033 - val_loss: 0.0096\n",
            "Epoch 46/100\n",
            "26056/26056 [==============================] - 3s 110us/step - loss: 0.0033 - val_loss: 0.0103\n",
            "Epoch 47/100\n",
            "26056/26056 [==============================] - 3s 110us/step - loss: 0.0033 - val_loss: 0.0091\n",
            "Epoch 48/100\n",
            "26056/26056 [==============================] - 3s 103us/step - loss: 0.0033 - val_loss: 0.0083\n",
            "Epoch 49/100\n",
            "26056/26056 [==============================] - 3s 110us/step - loss: 0.0033 - val_loss: 0.0087\n",
            "Epoch 50/100\n",
            "26056/26056 [==============================] - 3s 105us/step - loss: 0.0032 - val_loss: 0.0099\n",
            "Epoch 51/100\n",
            "26056/26056 [==============================] - 3s 106us/step - loss: 0.0032 - val_loss: 0.0093\n",
            "Epoch 52/100\n",
            "26056/26056 [==============================] - 3s 108us/step - loss: 0.0032 - val_loss: 0.0084\n",
            "Epoch 53/100\n",
            "26056/26056 [==============================] - 3s 108us/step - loss: 0.0032 - val_loss: 0.0083\n",
            "Epoch 54/100\n",
            "26056/26056 [==============================] - 3s 107us/step - loss: 0.0032 - val_loss: 0.0094\n",
            "Epoch 55/100\n",
            "26056/26056 [==============================] - 3s 106us/step - loss: 0.0032 - val_loss: 0.0098\n",
            "Epoch 56/100\n",
            "26056/26056 [==============================] - 3s 107us/step - loss: 0.0032 - val_loss: 0.0069\n",
            "Epoch 57/100\n",
            "26056/26056 [==============================] - 3s 106us/step - loss: 0.0032 - val_loss: 0.0081\n",
            "Epoch 58/100\n",
            "26056/26056 [==============================] - 3s 105us/step - loss: 0.0032 - val_loss: 0.0082\n",
            "Epoch 59/100\n",
            "26056/26056 [==============================] - 3s 113us/step - loss: 0.0032 - val_loss: 0.0096\n",
            "Epoch 60/100\n",
            "26056/26056 [==============================] - 3s 108us/step - loss: 0.0032 - val_loss: 0.0096\n",
            "Epoch 61/100\n",
            "26056/26056 [==============================] - 3s 106us/step - loss: 0.0032 - val_loss: 0.0069\n",
            "Epoch 62/100\n",
            "26056/26056 [==============================] - 3s 107us/step - loss: 0.0032 - val_loss: 0.0090\n",
            "Epoch 63/100\n",
            "26056/26056 [==============================] - 3s 105us/step - loss: 0.0032 - val_loss: 0.0095\n",
            "Epoch 64/100\n",
            "26056/26056 [==============================] - 3s 105us/step - loss: 0.0032 - val_loss: 0.0087\n",
            "Epoch 65/100\n",
            "26056/26056 [==============================] - 3s 105us/step - loss: 0.0032 - val_loss: 0.0070\n",
            "Epoch 66/100\n",
            "26056/26056 [==============================] - 3s 112us/step - loss: 0.0032 - val_loss: 0.0085\n",
            "Epoch 67/100\n",
            "26056/26056 [==============================] - 3s 106us/step - loss: 0.0032 - val_loss: 0.0079\n",
            "Epoch 68/100\n",
            "26056/26056 [==============================] - 3s 110us/step - loss: 0.0032 - val_loss: 0.0096\n",
            "Epoch 69/100\n",
            "26056/26056 [==============================] - 3s 103us/step - loss: 0.0032 - val_loss: 0.0091\n",
            "Epoch 70/100\n",
            "26056/26056 [==============================] - 3s 113us/step - loss: 0.0032 - val_loss: 0.0073\n",
            "Epoch 71/100\n",
            "26056/26056 [==============================] - 3s 117us/step - loss: 0.0032 - val_loss: 0.0084\n",
            "Epoch 72/100\n",
            "26056/26056 [==============================] - 3s 115us/step - loss: 0.0032 - val_loss: 0.0091\n",
            "Epoch 73/100\n",
            "26056/26056 [==============================] - 3s 108us/step - loss: 0.0032 - val_loss: 0.0072\n",
            "Epoch 74/100\n",
            "26056/26056 [==============================] - 3s 110us/step - loss: 0.0032 - val_loss: 0.0069\n",
            "Epoch 75/100\n",
            "26056/26056 [==============================] - 3s 105us/step - loss: 0.0032 - val_loss: 0.0078\n",
            "Epoch 76/100\n",
            "26056/26056 [==============================] - 3s 107us/step - loss: 0.0032 - val_loss: 0.0110\n",
            "Epoch 77/100\n",
            "26056/26056 [==============================] - 3s 110us/step - loss: 0.0032 - val_loss: 0.0090\n",
            "Epoch 78/100\n",
            "26056/26056 [==============================] - 3s 111us/step - loss: 0.0032 - val_loss: 0.0080\n",
            "Epoch 79/100\n",
            "26056/26056 [==============================] - 3s 107us/step - loss: 0.0031 - val_loss: 0.0082\n",
            "Epoch 80/100\n",
            "26056/26056 [==============================] - 3s 104us/step - loss: 0.0031 - val_loss: 0.0071\n",
            "Epoch 81/100\n",
            "26056/26056 [==============================] - 3s 107us/step - loss: 0.0031 - val_loss: 0.0088\n",
            "Epoch 82/100\n",
            "26056/26056 [==============================] - 3s 107us/step - loss: 0.0031 - val_loss: 0.0087\n",
            "Epoch 83/100\n",
            "26056/26056 [==============================] - 3s 114us/step - loss: 0.0031 - val_loss: 0.0073\n",
            "Epoch 84/100\n",
            "26056/26056 [==============================] - 3s 104us/step - loss: 0.0031 - val_loss: 0.0098\n",
            "Epoch 85/100\n",
            "26056/26056 [==============================] - 3s 106us/step - loss: 0.0031 - val_loss: 0.0105\n",
            "Epoch 86/100\n",
            "26056/26056 [==============================] - 3s 106us/step - loss: 0.0031 - val_loss: 0.0089\n",
            "Epoch 87/100\n",
            "26056/26056 [==============================] - 3s 105us/step - loss: 0.0031 - val_loss: 0.0092\n",
            "Epoch 88/100\n",
            "26056/26056 [==============================] - 3s 107us/step - loss: 0.0031 - val_loss: 0.0088\n",
            "Epoch 89/100\n",
            "26056/26056 [==============================] - 3s 116us/step - loss: 0.0031 - val_loss: 0.0085\n",
            "Epoch 90/100\n",
            "26056/26056 [==============================] - 3s 105us/step - loss: 0.0031 - val_loss: 0.0108\n",
            "Epoch 91/100\n",
            "26056/26056 [==============================] - 3s 109us/step - loss: 0.0031 - val_loss: 0.0092\n",
            "Epoch 92/100\n",
            "26056/26056 [==============================] - 3s 106us/step - loss: 0.0031 - val_loss: 0.0085\n",
            "Epoch 93/100\n",
            "26056/26056 [==============================] - 3s 104us/step - loss: 0.0031 - val_loss: 0.0080\n",
            "Epoch 94/100\n",
            "26056/26056 [==============================] - 3s 105us/step - loss: 0.0031 - val_loss: 0.0115\n",
            "Epoch 95/100\n",
            "26056/26056 [==============================] - 3s 107us/step - loss: 0.0031 - val_loss: 0.0086\n",
            "Epoch 96/100\n",
            "26056/26056 [==============================] - 3s 109us/step - loss: 0.0031 - val_loss: 0.0119\n",
            "Epoch 97/100\n",
            "26056/26056 [==============================] - 3s 113us/step - loss: 0.0031 - val_loss: 0.0088\n",
            "Epoch 98/100\n",
            "26056/26056 [==============================] - 3s 113us/step - loss: 0.0031 - val_loss: 0.0087\n",
            "Epoch 99/100\n",
            "26056/26056 [==============================] - 3s 117us/step - loss: 0.0031 - val_loss: 0.0107\n",
            "Epoch 100/100\n",
            "26056/26056 [==============================] - 3s 111us/step - loss: 0.0031 - val_loss: 0.0099\n"
          ],
          "name": "stdout"
        }
      ]
    },
    {
      "cell_type": "code",
      "metadata": {
        "id": "iq7QR_FLNUi1"
      },
      "source": [
        "X_pred_train = model.predict(np.array(X_train))\n",
        "X_pred_train = pd.DataFrame(X_pred_train, \n",
        "                      columns=X_train.columns)\n",
        "X_pred_train.index = X_train.index\n",
        "\n",
        "scored_train = pd.DataFrame(index=X_train.index)\n",
        "scored_train['Loss_mae'] = np.mean(np.abs(X_pred_train-X_train), axis = 1)\n",
        "scored_train['Threshold'] = 0.13\n",
        "scored_train['Anomaly'] = scored_train['Loss_mae'] > scored_train['Threshold']\n",
        "#scored = pd.concat([scored,scored_train])"
      ],
      "execution_count": null,
      "outputs": []
    },
    {
      "cell_type": "code",
      "metadata": {
        "id": "iunWWGlSnaTr",
        "colab": {
          "base_uri": "https://localhost:8080/",
          "height": 302
        },
        "outputId": "48484261-be7b-4078-e5e7-0471dafb47d9"
      },
      "source": [
        "#By plotting the distribution of the calculated loss in the training set, one can use this to identify a suitable threshold value for identifying an anomaly.\n",
        "\n",
        "plt.figure()\n",
        "sns.distplot(scored_train['Loss_mae'],\n",
        "             bins = 10, \n",
        "             kde= True,\n",
        "            color = 'blue');\n",
        "plt.xlim([0.0,.5])"
      ],
      "execution_count": null,
      "outputs": [
        {
          "output_type": "execute_result",
          "data": {
            "text/plain": [
              "(0.0, 0.5)"
            ]
          },
          "metadata": {
            "tags": []
          },
          "execution_count": 22
        },
        {
          "output_type": "display_data",
          "data": {
            "image/png": "[encoded data removed]",
            "text/plain": [
              "<Figure size 432x288 with 1 Axes>"
            ]
          },
          "metadata": {
            "tags": [],
            "needs_background": "light"
          }
        }
      ]
    },
    {
      "cell_type": "code",
      "metadata": {
        "id": "NSeXv-fxIofW",
        "colab": {
          "base_uri": "https://localhost:8080/",
          "height": 225
        },
        "outputId": "b766c1f0-d415-4e50-9587-77b34ece2673"
      },
      "source": [
        "scored_train.head()"
      ],
      "execution_count": null,
      "outputs": [
        {
          "output_type": "execute_result",
          "data": {
            "text/html": [
              "<div>\n",
              "<style scoped>\n",
              "    .dataframe tbody tr th:only-of-type {\n",
              "        vertical-align: middle;\n",
              "    }\n",
              "\n",
              "    .dataframe tbody tr th {\n",
              "        vertical-align: top;\n",
              "    }\n",
              "\n",
              "    .dataframe thead th {\n",
              "        text-align: right;\n",
              "    }\n",
              "</style>\n",
              "<table border=\"1\" class=\"dataframe\">\n",
              "  <thead>\n",
              "    <tr style=\"text-align: right;\">\n",
              "      <th></th>\n",
              "      <th>Loss_mae</th>\n",
              "      <th>Threshold</th>\n",
              "      <th>Anomaly</th>\n",
              "    </tr>\n",
              "    <tr>\n",
              "      <th>timestamp</th>\n",
              "      <th></th>\n",
              "      <th></th>\n",
              "      <th></th>\n",
              "    </tr>\n",
              "  </thead>\n",
              "  <tbody>\n",
              "    <tr>\n",
              "      <th>2011-05-04 12:00:20</th>\n",
              "      <td>0.081730</td>\n",
              "      <td>0.13</td>\n",
              "      <td>False</td>\n",
              "    </tr>\n",
              "    <tr>\n",
              "      <th>2011-05-04 12:00:30</th>\n",
              "      <td>0.094083</td>\n",
              "      <td>0.13</td>\n",
              "      <td>False</td>\n",
              "    </tr>\n",
              "    <tr>\n",
              "      <th>2011-05-04 12:00:40</th>\n",
              "      <td>0.094083</td>\n",
              "      <td>0.13</td>\n",
              "      <td>False</td>\n",
              "    </tr>\n",
              "    <tr>\n",
              "      <th>2011-05-04 12:01:00</th>\n",
              "      <td>0.105570</td>\n",
              "      <td>0.13</td>\n",
              "      <td>False</td>\n",
              "    </tr>\n",
              "    <tr>\n",
              "      <th>2011-05-04 12:01:10</th>\n",
              "      <td>0.090454</td>\n",
              "      <td>0.13</td>\n",
              "      <td>False</td>\n",
              "    </tr>\n",
              "  </tbody>\n",
              "</table>\n",
              "</div>"
            ],
            "text/plain": [
              "                     Loss_mae  Threshold  Anomaly\n",
              "timestamp                                        \n",
              "2011-05-04 12:00:20  0.081730       0.13    False\n",
              "2011-05-04 12:00:30  0.094083       0.13    False\n",
              "2011-05-04 12:00:40  0.094083       0.13    False\n",
              "2011-05-04 12:01:00  0.105570       0.13    False\n",
              "2011-05-04 12:01:10  0.090454       0.13    False"
            ]
          },
          "metadata": {
            "tags": []
          },
          "execution_count": 23
        }
      ]
    },
    {
      "cell_type": "markdown",
      "source": [
        "From the above loss distribution, let us try a threshold of 0.13 for flagging an anomaly.Here in Train set the threshold crosses only in few places\n",
        " We can then calculate the loss in the test set, to check when the output crosses the anomaly threshold."
      ],
      "metadata": {
        "id": "lF04ZQUznfMt"
      }
    },
    {
      "cell_type": "code",
      "metadata": {
        "id": "ZLYKvRVwNjeq",
        "colab": {
          "base_uri": "https://localhost:8080/",
          "height": 506
        },
        "outputId": "5d8133cf-c01d-43dc-f89b-6145e3e864e3"
      },
      "source": [
        "scored_train.plot(logy=True,  figsize = (15,8), ylim = [1e-3,1e2], color = ['blue','red'])"
      ],
      "execution_count": null,
      "outputs": [
        {
          "output_type": "execute_result",
          "data": {
            "text/plain": [
              "<matplotlib.axes._subplots.AxesSubplot at 0x7f0e0fc63710>"
            ]
          },
          "metadata": {
            "tags": []
          },
          "execution_count": 24
        },
        {
          "output_type": "display_data",
          "data": {
            "image/png": "[encoded data removed]",
            "text/plain": [
              "<Figure size 1080x576 with 1 Axes>"
            ]
          },
          "metadata": {
            "tags": [],
            "needs_background": "light"
          }
        }
      ]
    },
    {
      "cell_type": "code",
      "metadata": {
        "id": "ABaqdttzJW_R"
      },
      "source": [
        "#Prediction for test data\n",
        "X_pred_test = model.predict(np.array(X_test))\n",
        "X_pred_test = pd.DataFrame(X_pred_test, \n",
        "                      columns=X_test.columns)\n",
        "X_pred_test.index = X_test.index\n"
      ],
      "execution_count": null,
      "outputs": []
    },
    {
      "cell_type": "code",
      "metadata": {
        "id": "jlfIdAJVLJMd"
      },
      "source": [
        "#LOss MAE is calculated to identify Anomaly as it compresses the data to understand the insights.\n",
        "scored_test = pd.DataFrame(index=X_test.index)\n",
        "scored_test['Loss_mae'] = np.mean(np.abs(X_pred_test-X_test), axis = 1)\n",
        "scored_test['Threshold'] = 0.13\n",
        "scored_test['Anomaly'] = scored_test['Loss_mae'] > scored_test['Threshold']"
      ],
      "execution_count": null,
      "outputs": []
    },
    {
      "cell_type": "code",
      "metadata": {
        "id": "4-Wyoc68LYhu",
        "colab": {
          "base_uri": "https://localhost:8080/",
          "height": 225
        },
        "outputId": "4cb693ad-d34a-4bd2-c448-1e822e769bef"
      },
      "source": [
        "scored_test.head()"
      ],
      "execution_count": null,
      "outputs": [
        {
          "output_type": "execute_result",
          "data": {
            "text/html": [
              "<div>\n",
              "<style scoped>\n",
              "    .dataframe tbody tr th:only-of-type {\n",
              "        vertical-align: middle;\n",
              "    }\n",
              "\n",
              "    .dataframe tbody tr th {\n",
              "        vertical-align: top;\n",
              "    }\n",
              "\n",
              "    .dataframe thead th {\n",
              "        text-align: right;\n",
              "    }\n",
              "</style>\n",
              "<table border=\"1\" class=\"dataframe\">\n",
              "  <thead>\n",
              "    <tr style=\"text-align: right;\">\n",
              "      <th></th>\n",
              "      <th>Loss_mae</th>\n",
              "      <th>Threshold</th>\n",
              "      <th>Anomaly</th>\n",
              "    </tr>\n",
              "    <tr>\n",
              "      <th>timestamp</th>\n",
              "      <th></th>\n",
              "      <th></th>\n",
              "      <th></th>\n",
              "    </tr>\n",
              "  </thead>\n",
              "  <tbody>\n",
              "    <tr>\n",
              "      <th>2011-05-01 12:00:10</th>\n",
              "      <td>0.555381</td>\n",
              "      <td>0.13</td>\n",
              "      <td>True</td>\n",
              "    </tr>\n",
              "    <tr>\n",
              "      <th>2011-05-01 12:00:20</th>\n",
              "      <td>0.553141</td>\n",
              "      <td>0.13</td>\n",
              "      <td>True</td>\n",
              "    </tr>\n",
              "    <tr>\n",
              "      <th>2011-05-01 12:00:30</th>\n",
              "      <td>0.553948</td>\n",
              "      <td>0.13</td>\n",
              "      <td>True</td>\n",
              "    </tr>\n",
              "    <tr>\n",
              "      <th>2011-05-01 12:00:40</th>\n",
              "      <td>0.554694</td>\n",
              "      <td>0.13</td>\n",
              "      <td>True</td>\n",
              "    </tr>\n",
              "    <tr>\n",
              "      <th>2011-05-01 12:00:50</th>\n",
              "      <td>0.554694</td>\n",
              "      <td>0.13</td>\n",
              "      <td>True</td>\n",
              "    </tr>\n",
              "  </tbody>\n",
              "</table>\n",
              "</div>"
            ],
            "text/plain": [
              "                     Loss_mae  Threshold  Anomaly\n",
              "timestamp                                        \n",
              "2011-05-01 12:00:10  0.555381       0.13     True\n",
              "2011-05-01 12:00:20  0.553141       0.13     True\n",
              "2011-05-01 12:00:30  0.553948       0.13     True\n",
              "2011-05-01 12:00:40  0.554694       0.13     True\n",
              "2011-05-01 12:00:50  0.554694       0.13     True"
            ]
          },
          "metadata": {
            "tags": []
          },
          "execution_count": 31
        }
      ]
    },
    {
      "cell_type": "code",
      "metadata": {
        "id": "thgeRUzcLwCB",
        "colab": {
          "base_uri": "https://localhost:8080/",
          "height": 506
        },
        "outputId": "1ddbf33d-60e7-48ab-897f-00af25a52297"
      },
      "source": [
        "#Dataset set quality for this data is not good, somehow we are able to identify points where the  points crosses the threshold of 0.13 and these points can be labelled as anomaly points\n",
        "scored_test.plot(logy=True,  figsize = (15,8), ylim = [1e-3,1e2], color = ['blue','red'])"
      ],
      "execution_count": null,
      "outputs": [
        {
          "output_type": "execute_result",
          "data": {
            "text/plain": [
              "<matplotlib.axes._subplots.AxesSubplot at 0x7f0e07dd2ef0>"
            ]
          },
          "metadata": {
            "tags": []
          },
          "execution_count": 32
        },
        {
          "output_type": "display_data",
          "data": {
            "image/png": "[encoded data removed]",
            "text/plain": [
              "<Figure size 1080x576 with 1 Axes>"
            ]
          },
          "metadata": {
            "tags": [],
            "needs_background": "light"
          }
        }
      ]
    },
    {
      "cell_type": "code",
      "metadata": {
        "id": "KByd2IZ7OdxG"
      },
      "source": [
        ""
      ],
      "execution_count": null,
      "outputs": []
    }
  ]
}